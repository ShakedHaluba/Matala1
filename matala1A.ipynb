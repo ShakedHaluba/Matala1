{
 "cells": [
  {
   "cell_type": "code",
   "execution_count": 3,
   "metadata": {},
   "outputs": [],
   "source": [
    "def my_func(x1, x2, x3):\n",
    "    if type(x1) is not float or type(x2) is not float or type(x3) is not float:\n",
    "        return (\"Error: parameters should be float\",\"None\")\n",
    "        \n",
    "    if (x1+x2+x3)==0:\n",
    "        return (\"Not a number: denominator equals zero\")\n",
    "    \n",
    "    return float(((x1+x2+x3)*(x2+x3)*x3)/(x1+x2+x3))"
   ]
  }
 ],
 "metadata": {
  "kernelspec": {
   "display_name": "Python 3",
   "language": "python",
   "name": "python3"
  },
  "language_info": {
   "codemirror_mode": {
    "name": "ipython",
    "version": 3
   },
   "file_extension": ".py",
   "mimetype": "text/x-python",
   "name": "python",
   "nbconvert_exporter": "python",
   "pygments_lexer": "ipython3",
   "version": "3.8.5"
  }
 },
 "nbformat": 4,
 "nbformat_minor": 4
}
